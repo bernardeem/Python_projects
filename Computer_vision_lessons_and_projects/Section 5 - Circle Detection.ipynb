{
 "cells": [
  {
   "cell_type": "markdown",
   "id": "3caee7cd",
   "metadata": {},
   "source": [
    "## Possibilities of finding circles for the projects"
   ]
  },
  {
   "cell_type": "markdown",
   "id": "d8d5c8a4",
   "metadata": {},
   "source": [
    "After segmentation of an image, use the opencv function ´cv2.minEnclosingCircle(contour)´ to find the greatest circle that can fit inside of the contour."
   ]
  },
  {
   "cell_type": "markdown",
   "id": "77d38ca3",
   "metadata": {},
   "source": [
    "Use Hough Transform Circles"
   ]
  }
 ],
 "metadata": {
  "kernelspec": {
   "display_name": "Python 3 (ipykernel)",
   "language": "python",
   "name": "python3"
  },
  "language_info": {
   "codemirror_mode": {
    "name": "ipython",
    "version": 3
   },
   "file_extension": ".py",
   "mimetype": "text/x-python",
   "name": "python",
   "nbconvert_exporter": "python",
   "pygments_lexer": "ipython3",
   "version": "3.11.4"
  }
 },
 "nbformat": 4,
 "nbformat_minor": 5
}
