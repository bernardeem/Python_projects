{
 "cells": [
  {
   "cell_type": "markdown",
   "id": "8d4a9858",
   "metadata": {},
   "source": [
    "# Bank Account Assessment Project Part 2\n",
    "Using Scikit-Learn and model avaliation"
   ]
  },
  {
   "cell_type": "code",
   "execution_count": 3,
   "id": "b16f7101",
   "metadata": {},
   "outputs": [],
   "source": [
    "import numpy as np\n",
    "import pandas as pd\n",
    "import matplotlib.pyplot as plt"
   ]
  },
  {
   "cell_type": "code",
   "execution_count": 4,
   "id": "ee5d92d9",
   "metadata": {},
   "outputs": [],
   "source": [
    "# enhance plot quality\n",
    "plt.rcParams[\"figure.dpi\"] = 400"
   ]
  },
  {
   "cell_type": "code",
   "execution_count": 5,
   "id": "d0066c41",
   "metadata": {},
   "outputs": [],
   "source": [
    "df = pd.read_csv(\"Chapter_1_cleaned_data.csv\")"
   ]
  },
  {
   "cell_type": "code",
   "execution_count": 6,
   "id": "b65781d2",
   "metadata": {},
   "outputs": [
    {
     "name": "stdout",
     "output_type": "stream",
     "text": [
      "0.2217971797179718 \n",
      "\n"
     ]
    },
    {
     "data": {
      "text/plain": [
       "default payment next month\n",
       "0    20750\n",
       "1     5914\n",
       "Name: ID, dtype: int64"
      ]
     },
     "execution_count": 6,
     "metadata": {},
     "output_type": "execute_result"
    }
   ],
   "source": [
    "# the data shown below has a difference of samples\n",
    "# although it still can be considered balanced\n",
    "# for unbalanced data, it should be applied\n",
    "# undersampling, oversampling or weighting samples\n",
    "\n",
    "print(df[\"default payment next month\"].mean(), \"\\n\")\n",
    "df.groupby(\"default payment next month\")[\"ID\"].count()"
   ]
  },
  {
   "cell_type": "code",
   "execution_count": 7,
   "id": "58f7974c",
   "metadata": {},
   "outputs": [],
   "source": [
    "from sklearn.linear_model import LogisticRegression"
   ]
  },
  {
   "cell_type": "code",
   "execution_count": 14,
   "id": "09fad69f",
   "metadata": {},
   "outputs": [],
   "source": [
    "my_lr = LogisticRegression()"
   ]
  },
  {
   "cell_type": "code",
   "execution_count": 17,
   "id": "c371985d",
   "metadata": {},
   "outputs": [
    {
     "data": {
      "text/plain": [
       "{'C': 1.0,\n",
       " 'class_weight': None,\n",
       " 'dual': False,\n",
       " 'fit_intercept': True,\n",
       " 'intercept_scaling': 1,\n",
       " 'l1_ratio': None,\n",
       " 'max_iter': 100,\n",
       " 'multi_class': 'auto',\n",
       " 'n_jobs': None,\n",
       " 'penalty': 'l2',\n",
       " 'random_state': None,\n",
       " 'solver': 'lbfgs',\n",
       " 'tol': 0.0001,\n",
       " 'verbose': 0,\n",
       " 'warm_start': False}"
      ]
     },
     "execution_count": 17,
     "metadata": {},
     "output_type": "execute_result"
    }
   ],
   "source": [
    "params = my_lr.get_params()\n",
    "params"
   ]
  },
  {
   "cell_type": "code",
   "execution_count": 27,
   "id": "6ed29468",
   "metadata": {},
   "outputs": [],
   "source": [
    "my_new_lr = LogisticRegression(C=1.0, class_weight=None, dual=False,\n",
    "                               fit_intercept=True,\n",
    "                              intercept_scaling=1, max_iter=100, multi_class=\"auto\",\n",
    "                              n_jobs=None, penalty=\"l2\", random_state=None, solver=\"warn\",\n",
    "                              tol=0.0001, verbose=0, warm_start=False)"
   ]
  },
  {
   "cell_type": "code",
   "execution_count": 28,
   "id": "24f886b3",
   "metadata": {},
   "outputs": [
    {
     "data": {
      "text/plain": [
       "{'C': 0.1,\n",
       " 'class_weight': None,\n",
       " 'dual': False,\n",
       " 'fit_intercept': True,\n",
       " 'intercept_scaling': 1,\n",
       " 'l1_ratio': None,\n",
       " 'max_iter': 100,\n",
       " 'multi_class': 'auto',\n",
       " 'n_jobs': None,\n",
       " 'penalty': 'l2',\n",
       " 'random_state': None,\n",
       " 'solver': 'liblinear',\n",
       " 'tol': 0.0001,\n",
       " 'verbose': 0,\n",
       " 'warm_start': False}"
      ]
     },
     "execution_count": 28,
     "metadata": {},
     "output_type": "execute_result"
    }
   ],
   "source": [
    "my_new_lr.C = 0.1\n",
    "my_new_lr.solver = \"liblinear\"\n",
    "new_params = my_new_lr.get_params()\n",
    "new_params"
   ]
  },
  {
   "cell_type": "code",
   "execution_count": 29,
   "id": "06096e45",
   "metadata": {},
   "outputs": [
    {
     "data": {
      "text/plain": [
       "array([[2],\n",
       "       [2],\n",
       "       [2],\n",
       "       [2],\n",
       "       [2],\n",
       "       [1],\n",
       "       [1],\n",
       "       [2],\n",
       "       [3],\n",
       "       [3]], dtype=int64)"
      ]
     },
     "execution_count": 29,
     "metadata": {},
     "output_type": "execute_result"
    }
   ],
   "source": [
    "# selecting the first 10 values from EDUCATION\n",
    "X = df[\"EDUCATION\"][0:10].values.reshape(-1, 1)\n",
    "X"
   ]
  },
  {
   "cell_type": "code",
   "execution_count": 30,
   "id": "1e622910",
   "metadata": {},
   "outputs": [
    {
     "data": {
      "text/plain": [
       "array([1, 1, 0, 0, 0, 0, 0, 0, 0, 0], dtype=int64)"
      ]
     },
     "execution_count": 30,
     "metadata": {},
     "output_type": "execute_result"
    }
   ],
   "source": [
    "# selecting the first 10 values from default payment next month\n",
    "# this is the response variable\n",
    "Y = df[\"default payment next month\"][0:10].values\n",
    "Y"
   ]
  },
  {
   "cell_type": "code",
   "execution_count": 32,
   "id": "425a9c81",
   "metadata": {},
   "outputs": [
    {
     "data": {
      "text/plain": [
       "{'C': 0.1,\n",
       " 'class_weight': None,\n",
       " 'dual': False,\n",
       " 'fit_intercept': True,\n",
       " 'intercept_scaling': 1,\n",
       " 'l1_ratio': None,\n",
       " 'max_iter': 100,\n",
       " 'multi_class': 'auto',\n",
       " 'n_jobs': None,\n",
       " 'penalty': 'l2',\n",
       " 'random_state': None,\n",
       " 'solver': 'liblinear',\n",
       " 'tol': 0.0001,\n",
       " 'verbose': 0,\n",
       " 'warm_start': False}"
      ]
     },
     "execution_count": 32,
     "metadata": {},
     "output_type": "execute_result"
    }
   ],
   "source": [
    "# after running this cell, the model is trained with the data\n",
    "my_new_lr.fit(X, Y)\n",
    "my_new_lr.get_params()"
   ]
  },
  {
   "cell_type": "code",
   "execution_count": 33,
   "id": "b1bb00a4",
   "metadata": {},
   "outputs": [
    {
     "data": {
      "text/plain": [
       "array([[3],\n",
       "       [1],\n",
       "       [2],\n",
       "       [2],\n",
       "       [1],\n",
       "       [3],\n",
       "       [1],\n",
       "       [1],\n",
       "       [1],\n",
       "       [3]], dtype=int64)"
      ]
     },
     "execution_count": 33,
     "metadata": {},
     "output_type": "execute_result"
    }
   ],
   "source": [
    "# after training the model, let's test it\n",
    "new_X = df[\"EDUCATION\"][10:20].values.reshape(-1, 1)\n",
    "new_X"
   ]
  },
  {
   "cell_type": "code",
   "execution_count": 34,
   "id": "b2c57177",
   "metadata": {},
   "outputs": [
    {
     "data": {
      "text/plain": [
       "array([0, 0, 0, 0, 0, 0, 0, 0, 0, 0], dtype=int64)"
      ]
     },
     "execution_count": 34,
     "metadata": {},
     "output_type": "execute_result"
    }
   ],
   "source": [
    "# predict with the trained model\n",
    "my_new_lr.predict(new_X)"
   ]
  },
  {
   "cell_type": "code",
   "execution_count": 35,
   "id": "79348581",
   "metadata": {},
   "outputs": [
    {
     "data": {
      "text/plain": [
       "array([0, 0, 0, 1, 0, 0, 1, 0, 0, 0], dtype=int64)"
      ]
     },
     "execution_count": 35,
     "metadata": {},
     "output_type": "execute_result"
    }
   ],
   "source": [
    "# verify correct answers\n",
    "df[\"default payment next month\"][10:20].values\n",
    "\n",
    "# after the test, it can be seen that the model got 80% of \"right answers\"\n",
    "# but it didn't predict any 1 as answer, it's not good if the data were extremely important"
   ]
  }
 ],
 "metadata": {
  "kernelspec": {
   "display_name": "Python 3 (ipykernel)",
   "language": "python",
   "name": "python3"
  },
  "language_info": {
   "codemirror_mode": {
    "name": "ipython",
    "version": 3
   },
   "file_extension": ".py",
   "mimetype": "text/x-python",
   "name": "python",
   "nbconvert_exporter": "python",
   "pygments_lexer": "ipython3",
   "version": "3.11.4"
  }
 },
 "nbformat": 4,
 "nbformat_minor": 5
}
